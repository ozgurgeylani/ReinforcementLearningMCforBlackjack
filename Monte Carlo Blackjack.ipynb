{
  "metadata": {
    "language_info": {
      "codemirror_mode": {
        "name": "python",
        "version": 3
      },
      "file_extension": ".py",
      "mimetype": "text/x-python",
      "name": "python",
      "nbconvert_exporter": "python",
      "pygments_lexer": "ipython3",
      "version": "3.8"
    },
    "kernelspec": {
      "name": "python",
      "display_name": "Pyolite",
      "language": "python"
    }
  },
  "nbformat_minor": 4,
  "nbformat": 4,
  "cells": [
    {
      "cell_type": "code",
      "source": "#A player_states to track the states of each game.\ndef __init__(self):\n        self.player_state_value = {}\n        self.player_states = []\n        self.player_win = 0\n        self.player_draw = 0",
      "metadata": {},
      "execution_count": null,
      "outputs": []
    },
    {
      "cell_type": "code",
      "source": "#Each side is given a random card, in which case we assume we have infinite cards.\n# give card\n@staticmethod\ndef giveCard():\n      # 1 stands for ace\n      c_list = list(range(1, 11)) + [10, 10, 10]\n      return np.random.choice(c_list)",
      "metadata": {},
      "execution_count": null,
      "outputs": []
    },
    {
      "cell_type": "code",
      "source": "#Dealer Policy :Hit when the card value is below 17, stop when it is 17 or above. \n#The function will be able to return a new value based on the selected action and tell if the game is over or not.\ndef dealerPolicy(self, current_value, usable_ace, is_end):\n        if current_value > 21:\n            if usable_ace:\n                current_value -= 10\n                usable_ace = False\n            else:\n                return current_value, usable_ace, True\n        # HIT17\n        if current_value >= 17:\n            return current_value, usable_ace, True\n        else:\n            card = self.giveCard()\n            if card == 1:\n                if current_value <= 10:\n                    return current_value + 11, True, False\n                return current_value + 1, usable_ace, False\n            else:\n                return current_value + card, usable_ace, False",
      "metadata": {},
      "execution_count": null,
      "outputs": []
    },
    {
      "cell_type": "code",
      "source": "#Player Policy : Same as dealer policy except the player must stand at 20 or above in this environment.\ndef playerPolicy(self, current_value, usable_ace, is_end):\n        if current_value > 21:\n            if usable_ace:\n                current_value -= 10\n                usable_ace = False\n            else:\n                return current_value, usable_ace, True\n        # HIT17\n        if current_value >= 20:\n            return current_value, usable_ace, True\n        else:\n            card = self.giveCard()\n            if card == 1:\n                if current_value <= 10:\n                    return current_value + 11, True, False\n                return current_value + 1, usable_ace, False\n            else:\n                return current_value + card, usable_ace, False",
      "metadata": {},
      "execution_count": null,
      "outputs": []
    },
    {
      "cell_type": "code",
      "source": "#Give Credit :Credits will be awarded to the winner at the end of each game.\ndef _giveCredit(self, player_value, dealer_value, is_end=True):\n        if is_end:\n            # give reward only to last state\n            last_state = self.player_states[-1]\n            if player_value > 21:\n                if dealer_value > 21:\n                    # draw\n                    self.player_draw += 1\n                else:\n                    self.player_state_value[last_state] -= 1\n            else:\n                if dealer_value > 21:\n                    self.player_state_value[last_state] += 1\n                    self.player_win += 1\n                else:\n                    if player_value < dealer_value:\n                        self.player_state_value[last_state] -= 1\n                    elif player_value > dealer_value:\n                        self.player_state_value[last_state] += 1\n                        self.player_win += 1\n                    else:\n                        # draw\n                        self.player_draw += 1",
      "metadata": {},
      "execution_count": null,
      "outputs": []
    },
    {
      "cell_type": "code",
      "source": "#Monte Carlo Simulation :After all the above preparations, we can run the simulation!\ndef play(self, rounds=1000):\n        for i in range(rounds):\n            if i % 1000 == 0:\n                print(\"round\", i)\n            # hit 2 cards each\n            dealer_value, player_value = 0, 0\n            show_card = 0\n\n            # give dealer 2 cards and show 1\n            dealer_value += self.giveCard()\n            show_card = dealer_value\n            dealer_value += self.giveCard()\n\n            # player's turn\n            # always hit if less than 12\n            usable_ace, is_end = False, False\n            while True:\n                player_value, usable_ace, is_end = self.playerPolicy(player_value, usable_ace, is_end)\n\n                if is_end:\n                    break\n                # when value goes higher than 12, record states\n                if (player_value >= 12) and (player_value <= 21):\n                    self.player_states.append((player_value, show_card, usable_ace))\n            # print(\"player card sum\", player_value)\n\n            # dealer's turn\n            usable_ace, is_end = False, False\n            while not is_end:\n                dealer_value, usable_ace, is_end = self.dealerPolicy(dealer_value, usable_ace, is_end)\n            # print(\"dealer card sum\", dealer_value)\n\n            # judge winner\n            # set intermediate state to 0\n            for s in self.player_states:\n                self.player_state_value[s] = 0 if self.player_state_value.get(\n                    s) is None else self.player_state_value.get(s)\n\n            self._giveCredit(player_value, dealer_value)",
      "metadata": {},
      "execution_count": null,
      "outputs": []
    },
    {
      "cell_type": "code",
      "source": "#Estimation from simulation run at 10,000 rounds\nfig = plt.figure(figsize=[10, 6])\nax = fig.add_subplot(111, projection='3d')\n\nx = [k[1] for k in b.player_state_value.keys()]\ny = [k[0] for k in b.player_state_value.keys()]\nz = [v for v in b.player_state_value.values()]\nax.scatter(x, y, z)\n\nax.set_xlabel(\"dealer showing\")\nax.set_ylabel(\"player sum\")\nax.set_zlabel(\"reward\")",
      "metadata": {},
      "execution_count": null,
      "outputs": []
    }
  ]
}